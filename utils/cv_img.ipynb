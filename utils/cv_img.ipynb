{
 "cells": [
  {
   "cell_type": "code",
   "execution_count": 3,
   "metadata": {},
   "outputs": [
    {
     "name": "stderr",
     "output_type": "stream",
     "text": [
      "[ WARN:0@292.211] global /io/opencv/modules/highgui/src/window.cpp (906) setMouseCallback No UI backends available. Use OPENCV_LOG_LEVEL=DEBUG for investigation\n"
     ]
    },
    {
     "ename": "error",
     "evalue": "OpenCV(4.6.0) /io/opencv/modules/highgui/src/window.cpp:1267: error: (-2:Unspecified error) The function is not implemented. Rebuild the library with Windows, GTK+ 2.x or Cocoa support. If you are on Ubuntu or Debian, install libgtk2.0-dev and pkg-config, then re-run cmake or configure script in function 'cvShowImage'\n",
     "output_type": "error",
     "traceback": [
      "\u001b[0;31m---------------------------------------------------------------------------\u001b[0m",
      "\u001b[0;31merror\u001b[0m                                     Traceback (most recent call last)",
      "Cell \u001b[0;32mIn[3], line 13\u001b[0m\n\u001b[1;32m     11\u001b[0m img \u001b[39m=\u001b[39m cv2\u001b[39m.\u001b[39mimread(\u001b[39m'\u001b[39m\u001b[39m/mnt/data/ai4phys/sunyu/nougat/output/tmp/0009-2614\u001b[39m\u001b[39m%2884%\u001b[39;00m\u001b[39m2980042-1/03.png\u001b[39m\u001b[39m'\u001b[39m)\n\u001b[1;32m     12\u001b[0m cv2\u001b[39m.\u001b[39msetMouseCallback(\u001b[39m\"\u001b[39m\u001b[39mimage\u001b[39m\u001b[39m\"\u001b[39m,on_EVENT_LBUTTONDOWN)\n\u001b[0;32m---> 13\u001b[0m cv2\u001b[39m.\u001b[39;49mimshow(\u001b[39m\"\u001b[39;49m\u001b[39mimage\u001b[39;49m\u001b[39m\"\u001b[39;49m,img)\n\u001b[1;32m     14\u001b[0m cv2\u001b[39m.\u001b[39mwaitKey(\u001b[39m0\u001b[39m)\n\u001b[1;32m     15\u001b[0m \u001b[39mprint\u001b[39m(coords)\n",
      "\u001b[0;31merror\u001b[0m: OpenCV(4.6.0) /io/opencv/modules/highgui/src/window.cpp:1267: error: (-2:Unspecified error) The function is not implemented. Rebuild the library with Windows, GTK+ 2.x or Cocoa support. If you are on Ubuntu or Debian, install libgtk2.0-dev and pkg-config, then re-run cmake or configure script in function 'cvShowImage'\n"
     ]
    }
   ],
   "source": [
    "import cv2\n",
    "coords = []\n",
    "def on_EVENT_LBUTTONDOWN(event,x,y,flags,param):\n",
    "    if event == cv2.EVENT_LBUTTONDOWN:\n",
    "        coords.append([x,y])\n",
    "        xy=\"%d,%d\"%(x,y)\n",
    "        cv2.circle(img,(x,y),1,(255,0,0),thickness=-1)\n",
    "        cv2.putText(img,xy,(x,y),cv2.FONT_HERSHEY_PLAIN,1.0,(0,0,0),thickness=-1)\n",
    "        cv2.cvShowImage(\"image\",img)          \n",
    "\n",
    "img = cv2.imread('/mnt/data/ai4phys/sunyu/nougat/output/tmp/0009-2614%2884%2980042-1/03.png')\n",
    "cv2.setMouseCallback(\"image\",on_EVENT_LBUTTONDOWN)\n",
    "cv2.cvShowImage(\"image\",img)\n",
    "cv2.waitKey(0)\n",
    "print(coords)"
   ]
  },
  {
   "cell_type": "code",
   "execution_count": null,
   "metadata": {},
   "outputs": [],
   "source": []
  },
  {
   "cell_type": "code",
   "execution_count": null,
   "metadata": {},
   "outputs": [],
   "source": []
  }
 ],
 "metadata": {
  "kernelspec": {
   "display_name": "base",
   "language": "python",
   "name": "python3"
  },
  "language_info": {
   "codemirror_mode": {
    "name": "ipython",
    "version": 3
   },
   "file_extension": ".py",
   "mimetype": "text/x-python",
   "name": "python",
   "nbconvert_exporter": "python",
   "pygments_lexer": "ipython3",
   "version": "3.9.15"
  },
  "orig_nbformat": 4
 },
 "nbformat": 4,
 "nbformat_minor": 2
}
